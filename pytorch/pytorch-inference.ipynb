{
 "cells": [
  {
   "cell_type": "markdown",
   "metadata": {},
   "source": [
    "# nesajov\n",
    "\n"
   ]
  },
  {
   "cell_type": "code",
   "execution_count": 21,
   "metadata": {},
   "outputs": [],
   "source": [
    "%reload_ext autoreload\n",
    "%autoreload 2\n",
    "%matplotlib inline"
   ]
  },
  {
   "cell_type": "code",
   "execution_count": 22,
   "metadata": {},
   "outputs": [],
   "source": [
    "import torch\n",
    "import torch.nn as nn\n",
    "import torch.backends.cudnn as cudnn\n",
    "\n",
    "from PIL import Image\n",
    "import torchvision.transforms as transforms\n",
    "\n",
    "from torch import jit\n",
    "\n",
    "import io\n",
    "import time\n",
    "\n",
    "import cv2\n"
   ]
  },
  {
   "cell_type": "code",
   "execution_count": 23,
   "metadata": {},
   "outputs": [],
   "source": [
    "# Check device\n",
    "use_cuda = torch.cuda.is_available()\n",
    "\n",
    "#device = torch.device('cuda' if use_cuda else 'cpu')\n",
    "device='cpu'"
   ]
  },
  {
   "cell_type": "code",
   "execution_count": 24,
   "metadata": {},
   "outputs": [
    {
     "data": {
      "text/plain": [
       "'cpu'"
      ]
     },
     "execution_count": 24,
     "metadata": {},
     "output_type": "execute_result"
    }
   ],
   "source": [
    "device"
   ]
  },
  {
   "cell_type": "code",
   "execution_count": 25,
   "metadata": {},
   "outputs": [],
   "source": [
    "IMG_PATH = '..\\images'\n",
    "MODEL_PATH = ''"
   ]
  },
  {
   "cell_type": "markdown",
   "metadata": {},
   "source": [
    "### Load model"
   ]
  },
  {
   "cell_type": "code",
   "execution_count": 29,
   "metadata": {},
   "outputs": [],
   "source": [
    "    # Model   \n",
    "    # Load ScriptModule from io.BytesIO object\n",
    "    with open('model_traced-2.pt', 'rb') as f:\n",
    "        buffer = io.BytesIO(f.read())\n",
    "        \n",
    "    traced_model = torch.jit.load(buffer, map_location=device)\n",
    "    #print('[WARNING] ScriptModules cannot be moved to a GPU device yet. Running strictly on CPU for now.')\n",
    "    #device = torch.device('cpu') # 'to' is not supported on TracedModules (yet)"
   ]
  },
  {
   "cell_type": "code",
   "execution_count": 30,
   "metadata": {},
   "outputs": [],
   "source": [
    "output = traced_model(torch.ones(1, 3, 224, 224))"
   ]
  },
  {
   "cell_type": "code",
   "execution_count": 31,
   "metadata": {},
   "outputs": [
    {
     "data": {
      "text/plain": [
       "tensor([ 4.3491, -5.0439], grad_fn=<SliceBackward>)"
      ]
     },
     "execution_count": 31,
     "metadata": {},
     "output_type": "execute_result"
    }
   ],
   "source": [
    "output[0, :5]"
   ]
  },
  {
   "cell_type": "markdown",
   "metadata": {},
   "source": [
    "### Predict image"
   ]
  },
  {
   "cell_type": "code",
   "execution_count": 11,
   "metadata": {},
   "outputs": [],
   "source": [
    "#vimage = cv2.imread(IMG_PATH + '/Birman_46-224.jpg')\n",
    "#vimage = cv2.imread(IMG_PATH + '/leonberger_35-224.jpg')\n",
    "#vimage = cv2.imread(IMG_PATH + '/C12_12-512.jpg')\n",
    "vimage = cv2.imread(IMG_PATH + '/D6_16-512.jpg')"
   ]
  },
  {
   "cell_type": "code",
   "execution_count": 10,
   "metadata": {},
   "outputs": [
    {
     "name": "stdout",
     "output_type": "stream",
     "text": [
      "Image tensor: tensor([[[-2.0995, -2.0995, -2.0995,  ..., -2.0801, -2.0608, -2.0608],\n",
      "         [-2.0995, -2.0995, -2.0995,  ..., -2.0995, -2.1189, -2.0995],\n",
      "         [-2.0995, -2.0995, -2.0995,  ..., -2.0801, -2.0801, -2.0801],\n",
      "         ...,\n",
      "         [-2.1771, -2.2158, -2.3903,  ..., -2.3515, -2.3515, -2.3709],\n",
      "         [-2.2546, -2.2546, -2.2158,  ..., -2.3515, -2.3515, -2.3709],\n",
      "         [-2.2546, -2.2546, -2.2352,  ..., -2.3515, -2.3709, -2.3903]],\n",
      "\n",
      "        [[-2.0839, -2.0839, -2.0839,  ..., -2.0643, -2.0446, -2.0446],\n",
      "         [-2.0839, -2.0839, -2.0839,  ..., -2.0839, -2.1036, -2.0839],\n",
      "         [-2.0839, -2.0839, -2.0839,  ..., -2.0643, -2.0643, -2.0643],\n",
      "         ...,\n",
      "         [-2.1626, -2.2019, -2.3789,  ..., -2.3396, -2.3396, -2.3593],\n",
      "         [-2.2413, -2.2413, -2.2019,  ..., -2.3396, -2.3396, -2.3593],\n",
      "         [-2.2413, -2.2413, -2.2216,  ..., -2.3396, -2.3593, -2.3789]],\n",
      "\n",
      "        [[-1.8897, -1.8897, -1.8897,  ..., -1.8702, -1.8507, -1.8507],\n",
      "         [-1.8897, -1.8897, -1.8897,  ..., -1.8897, -1.9092, -1.8897],\n",
      "         [-1.8897, -1.8897, -1.8897,  ..., -1.8702, -1.8702, -1.8702],\n",
      "         ...,\n",
      "         [-1.9678, -2.0068, -2.1824,  ..., -2.1434, -2.1434, -2.1629],\n",
      "         [-2.0458, -2.0458, -2.0068,  ..., -2.1434, -2.1434, -2.1629],\n",
      "         [-2.0458, -2.0458, -2.0263,  ..., -2.1434, -2.1629, -2.1824]]])\n",
      "Image tensor shape: torch.Size([3, 512, 512])\n",
      "New shape: torch.Size([1, 3, 512, 512])\n",
      "Predicted: 0 | 2.7998623847961426\n"
     ]
    }
   ],
   "source": [
    "x = vimage[:, :, (2, 1, 0)]\n",
    "x = torch.from_numpy(x).permute(2, 0, 1).to(device)\n",
    "to_norm_tensor = transforms.Compose([\n",
    "        #transforms.ToTensor(),\n",
    "        transforms.Normalize((0.4914, 0.4822, 0.4465), (0.2023, 0.1994, 0.2010)),\n",
    "    ])\n",
    "img_tensor = to_norm_tensor(x.float().div_(255))\n",
    "#print('Image tensor: {}'.format(img_tensor))\n",
    "print('Image tensor shape: {}'.format(img_tensor.shape))\n",
    "img_tensor.unsqueeze_(0) # add a dimension for the batch\n",
    "print('New shape: {}'.format(img_tensor.shape))\n",
    "outputs = traced_model(img_tensor)\n",
    "score, predicted = outputs.max(1)\n",
    "print(f'Predicted: {predicted.item()} | {score.item()}')"
   ]
  },
  {
   "cell_type": "code",
   "execution_count": null,
   "metadata": {},
   "outputs": [],
   "source": []
  }
 ],
 "metadata": {
  "kernelspec": {
   "display_name": "Python 3",
   "language": "python",
   "name": "python3"
  },
  "language_info": {
   "codemirror_mode": {
    "name": "ipython",
    "version": 3
   },
   "file_extension": ".py",
   "mimetype": "text/x-python",
   "name": "python",
   "nbconvert_exporter": "python",
   "pygments_lexer": "ipython3",
   "version": "3.7.3"
  }
 },
 "nbformat": 4,
 "nbformat_minor": 2
}
